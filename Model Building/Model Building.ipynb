{
 "cells": [
  {
   "cell_type": "code",
   "execution_count": 5,
   "id": "faf6a9b5",
   "metadata": {},
   "outputs": [],
   "source": [
    "import pandas as pd"
   ]
  },
  {
   "cell_type": "code",
   "execution_count": 6,
   "id": "a79107dd",
   "metadata": {},
   "outputs": [],
   "source": [
    "import numpy as np"
   ]
  },
  {
   "cell_type": "code",
   "execution_count": 7,
   "id": "72b26286",
   "metadata": {},
   "outputs": [],
   "source": [
    "import matplotlib.pyplot as plt"
   ]
  },
  {
   "cell_type": "code",
   "execution_count": 8,
   "id": "9e98051f",
   "metadata": {},
   "outputs": [
    {
     "data": {
      "text/html": [
       "<div>\n",
       "<style scoped>\n",
       "    .dataframe tbody tr th:only-of-type {\n",
       "        vertical-align: middle;\n",
       "    }\n",
       "\n",
       "    .dataframe tbody tr th {\n",
       "        vertical-align: top;\n",
       "    }\n",
       "\n",
       "    .dataframe thead th {\n",
       "        text-align: right;\n",
       "    }\n",
       "</style>\n",
       "<table border=\"1\" class=\"dataframe\">\n",
       "  <thead>\n",
       "    <tr style=\"text-align: right;\">\n",
       "      <th></th>\n",
       "      <th>Date</th>\n",
       "      <th>Closing Value</th>\n",
       "    </tr>\n",
       "  </thead>\n",
       "  <tbody>\n",
       "    <tr>\n",
       "      <th>0</th>\n",
       "      <td>1/2/1986</td>\n",
       "      <td>25.56</td>\n",
       "    </tr>\n",
       "    <tr>\n",
       "      <th>1</th>\n",
       "      <td>1/3/1986</td>\n",
       "      <td>26.00</td>\n",
       "    </tr>\n",
       "    <tr>\n",
       "      <th>2</th>\n",
       "      <td>1/6/1986</td>\n",
       "      <td>26.53</td>\n",
       "    </tr>\n",
       "    <tr>\n",
       "      <th>3</th>\n",
       "      <td>1/7/1986</td>\n",
       "      <td>25.85</td>\n",
       "    </tr>\n",
       "    <tr>\n",
       "      <th>4</th>\n",
       "      <td>1/8/1986</td>\n",
       "      <td>25.87</td>\n",
       "    </tr>\n",
       "  </tbody>\n",
       "</table>\n",
       "</div>"
      ],
      "text/plain": [
       "       Date  Closing Value\n",
       "0  1/2/1986          25.56\n",
       "1  1/3/1986          26.00\n",
       "2  1/6/1986          26.53\n",
       "3  1/7/1986          25.85\n",
       "4  1/8/1986          25.87"
      ]
     },
     "execution_count": 8,
     "metadata": {},
     "output_type": "execute_result"
    }
   ],
   "source": [
    "dataset1 = pd.read_csv(r\"C:\\Users\\HP\\Downloads\\Crude Oil Prices Daily.csv\")\n",
    "dataset1.head()"
   ]
  },
  {
   "cell_type": "code",
   "execution_count": 9,
   "id": "8a36762c",
   "metadata": {},
   "outputs": [
    {
     "data": {
      "text/plain": [
       "Date             False\n",
       "Closing Value     True\n",
       "dtype: bool"
      ]
     },
     "execution_count": 9,
     "metadata": {},
     "output_type": "execute_result"
    }
   ],
   "source": [
    "dataset1.isnull().any()"
   ]
  },
  {
   "cell_type": "code",
   "execution_count": 10,
   "id": "16535b74",
   "metadata": {},
   "outputs": [
    {
     "data": {
      "text/plain": [
       "Date             0\n",
       "Closing Value    7\n",
       "dtype: int64"
      ]
     },
     "execution_count": 10,
     "metadata": {},
     "output_type": "execute_result"
    }
   ],
   "source": [
    "dataset1.isnull().sum()"
   ]
  },
  {
   "cell_type": "code",
   "execution_count": 11,
   "id": "afeaa801",
   "metadata": {},
   "outputs": [],
   "source": [
    "dataset1.dropna(axis=0,inplace=True)"
   ]
  },
  {
   "cell_type": "code",
   "execution_count": 12,
   "id": "ae926a1b",
   "metadata": {},
   "outputs": [],
   "source": [
    "data_final=dataset1.reset_index()['Closing Value']"
   ]
  },
  {
   "cell_type": "code",
   "execution_count": 13,
   "id": "a0d7db5a",
   "metadata": {},
   "outputs": [
    {
     "data": {
      "text/plain": [
       "0       25.56\n",
       "1       26.00\n",
       "2       26.53\n",
       "3       25.85\n",
       "4       25.87\n",
       "        ...  \n",
       "8211    73.89\n",
       "8212    74.19\n",
       "8213    73.05\n",
       "8214    73.78\n",
       "8215    73.93\n",
       "Name: Closing Value, Length: 8216, dtype: float64"
      ]
     },
     "execution_count": 13,
     "metadata": {},
     "output_type": "execute_result"
    }
   ],
   "source": [
    "data_final"
   ]
  },
  {
   "cell_type": "code",
   "execution_count": 15,
   "id": "f2fa3af9",
   "metadata": {},
   "outputs": [],
   "source": [
    "from sklearn.preprocessing import MinMaxScaler\n",
    "scaler=MinMaxScaler(feature_range=(0,1))\n",
    "data_final=scaler.fit_transform(np.array(data_final).reshape(-1,1))"
   ]
  },
  {
   "cell_type": "code",
   "execution_count": 16,
   "id": "ebd6352b",
   "metadata": {},
   "outputs": [
    {
     "data": {
      "text/plain": [
       "[<matplotlib.lines.Line2D at 0x20066441420>]"
      ]
     },
     "execution_count": 16,
     "metadata": {},
     "output_type": "execute_result"
    },
    {
     "data": {
      "image/png": "[encoded data removed]",
      "text/plain": [
       "<Figure size 640x480 with 1 Axes>"
      ]
     },
     "metadata": {},
     "output_type": "display_data"
    }
   ],
   "source": [
    "plt.plot(data_final)"
   ]
  },
  {
   "cell_type": "code",
   "execution_count": 17,
   "id": "640c11d7",
   "metadata": {},
   "outputs": [],
   "source": [
    "training_size=int(len(data_final)*0.65)\n",
    "test_size=len(data_final)-training_size\n",
    "train_data,test_data=data_final[0:training_size,:],data_final[training_size:len(data_final),:1]"
   ]
  },
  {
   "cell_type": "code",
   "execution_count": 18,
   "id": "e3efb3f4",
   "metadata": {},
   "outputs": [
    {
     "data": {
      "text/plain": [
       "(5340, 2876)"
      ]
     },
     "execution_count": 18,
     "metadata": {},
     "output_type": "execute_result"
    }
   ],
   "source": [
    "training_size,test_size"
   ]
  },
  {
   "cell_type": "code",
   "execution_count": 19,
   "id": "abec7a26",
   "metadata": {},
   "outputs": [
    {
     "data": {
      "text/plain": [
       "(5340, 1)"
      ]
     },
     "execution_count": 19,
     "metadata": {},
     "output_type": "execute_result"
    }
   ],
   "source": [
    "train_data.shape"
   ]
  },
  {
   "cell_type": "code",
   "execution_count": 20,
   "id": "cbfb5a4b",
   "metadata": {},
   "outputs": [
    {
     "data": {
      "text/plain": [
       "(2876, 1)"
      ]
     },
     "execution_count": 20,
     "metadata": {},
     "output_type": "execute_result"
    }
   ],
   "source": [
    "test_data.shape"
   ]
  },
  {
   "cell_type": "code",
   "execution_count": 21,
   "id": "a4530d17",
   "metadata": {},
   "outputs": [],
   "source": [
    "def create_dataset(dataset,timestep=1):\n",
    "    dataX,dataY=[],[]\n",
    "    for i in range(len(dataset)-time_step-1):\n",
    "        a=dataset[i:(i+time_step),0]\n",
    "        dataX.append(a)\n",
    "        dataY.append(dataset[i+time_step,0])\n",
    "    return np.array(dataX),np.array(dataY)"
   ]
  },
  {
   "cell_type": "code",
   "execution_count": 22,
   "id": "563cee23",
   "metadata": {},
   "outputs": [],
   "source": [
    "time_step=10\n",
    "x_train, y_train= create_dataset(train_data,time_step)\n",
    "x_test, y_test = create_dataset(test_data, time_step)"
   ]
  },
  {
   "cell_type": "code",
   "execution_count": 23,
   "id": "d4de73ec",
   "metadata": {},
   "outputs": [
    {
     "name": "stdout",
     "output_type": "stream",
     "text": [
      "(2865, 10)\n",
      "(2865,)\n"
     ]
    },
    {
     "data": {
      "text/plain": [
       "(None, None)"
      ]
     },
     "execution_count": 23,
     "metadata": {},
     "output_type": "execute_result"
    }
   ],
   "source": [
    "print(x_test.shape),print(y_test.shape)"
   ]
  },
  {
   "cell_type": "code",
   "execution_count": 24,
   "id": "0d0b35e1",
   "metadata": {},
   "outputs": [
    {
     "name": "stdout",
     "output_type": "stream",
     "text": [
      "(5329, 10)\n",
      "(5329,)\n"
     ]
    },
    {
     "data": {
      "text/plain": [
       "(None, None)"
      ]
     },
     "execution_count": 24,
     "metadata": {},
     "output_type": "execute_result"
    }
   ],
   "source": [
    "print(x_train.shape),print(y_train.shape)"
   ]
  },
  {
   "cell_type": "code",
   "execution_count": 25,
   "id": "9915f57a",
   "metadata": {},
   "outputs": [
    {
     "data": {
      "text/plain": [
       "array([[0.11335703, 0.11661484, 0.12053902, ..., 0.10980305, 0.1089886 ,\n",
       "        0.11054346],\n",
       "       [0.11661484, 0.12053902, 0.11550422, ..., 0.1089886 , 0.11054346,\n",
       "        0.10165852],\n",
       "       [0.12053902, 0.11550422, 0.1156523 , ..., 0.11054346, 0.10165852,\n",
       "        0.09906708],\n",
       "       ...,\n",
       "       [0.36731823, 0.35176958, 0.36080261, ..., 0.36391234, 0.37042796,\n",
       "        0.37042796],\n",
       "       [0.35176958, 0.36080261, 0.35354657, ..., 0.37042796, 0.37042796,\n",
       "        0.37879461],\n",
       "       [0.36080261, 0.35354657, 0.35295424, ..., 0.37042796, 0.37879461,\n",
       "        0.37916482]])"
      ]
     },
     "execution_count": 25,
     "metadata": {},
     "output_type": "execute_result"
    }
   ],
   "source": [
    "x_train"
   ]
  },
  {
   "cell_type": "code",
   "execution_count": 1,
   "id": "85cbe201",
   "metadata": {},
   "outputs": [
    {
     "ename": "NameError",
     "evalue": "name 'x_train' is not defined",
     "output_type": "error",
     "traceback": [
      "\u001b[1;31m---------------------------------------------------------------------------\u001b[0m",
      "\u001b[1;31mNameError\u001b[0m                                 Traceback (most recent call last)",
      "\u001b[1;32m~\\AppData\\Local\\Temp/ipykernel_4072/3158004353.py\u001b[0m in \u001b[0;36m<module>\u001b[1;34m\u001b[0m\n\u001b[1;32m----> 1\u001b[1;33m \u001b[0mx_train\u001b[0m\u001b[1;33m=\u001b[0m \u001b[0mx_train\u001b[0m\u001b[1;33m.\u001b[0m\u001b[0mreshape\u001b[0m\u001b[1;33m(\u001b[0m\u001b[0mx_train\u001b[0m\u001b[1;33m.\u001b[0m\u001b[0mshape\u001b[0m\u001b[1;33m[\u001b[0m\u001b[1;36m0\u001b[0m\u001b[1;33m]\u001b[0m\u001b[1;33m,\u001b[0m\u001b[0mx_train\u001b[0m\u001b[1;33m.\u001b[0m\u001b[0mshape\u001b[0m\u001b[1;33m[\u001b[0m\u001b[1;36m1\u001b[0m\u001b[1;33m]\u001b[0m\u001b[1;33m,\u001b[0m\u001b[1;36m1\u001b[0m\u001b[1;33m)\u001b[0m\u001b[1;33m\u001b[0m\u001b[1;33m\u001b[0m\u001b[0m\n\u001b[0m\u001b[0;32m      2\u001b[0m \u001b[0mx_test\u001b[0m\u001b[1;33m=\u001b[0m \u001b[0mx_test\u001b[0m\u001b[1;33m.\u001b[0m\u001b[0mreshape\u001b[0m\u001b[1;33m(\u001b[0m\u001b[0mx_test\u001b[0m\u001b[1;33m.\u001b[0m\u001b[0mshape\u001b[0m\u001b[1;33m[\u001b[0m\u001b[1;36m0\u001b[0m\u001b[1;33m]\u001b[0m\u001b[1;33m,\u001b[0m\u001b[0mx_test\u001b[0m\u001b[1;33m.\u001b[0m\u001b[0mshape\u001b[0m\u001b[1;33m[\u001b[0m\u001b[1;36m1\u001b[0m\u001b[1;33m]\u001b[0m\u001b[1;33m,\u001b[0m\u001b[1;36m1\u001b[0m\u001b[1;33m)\u001b[0m\u001b[1;33m\u001b[0m\u001b[1;33m\u001b[0m\u001b[0m\n",
      "\u001b[1;31mNameError\u001b[0m: name 'x_train' is not defined"
     ]
    }
   ],
   "source": [
    "x_train= x_train.reshape(x_train.shape[0],x_train.shape[1],1)\n",
    "x_test= x_test.reshape(x_test.shape[0],x_test.shape[1],1)\n"
   ]
  },
  {
   "cell_type": "code",
   "execution_count": 28,
   "id": "173fcf4f",
   "metadata": {},
   "outputs": [],
   "source": [
    "#importing libraries\n",
    "from tensorflow.keras.models import Sequential\n",
    "from tensorflow.keras.layers import Dense\n",
    "from tensorflow.keras.layers import LSTM\n"
   ]
  },
  {
   "cell_type": "code",
   "execution_count": null,
   "id": "a26beaf1",
   "metadata": {},
   "outputs": [],
   "source": [
    "conda install tensorflow\n"
   ]
  },
  {
   "cell_type": "code",
   "execution_count": 29,
   "id": "58144df1",
   "metadata": {},
   "outputs": [],
   "source": [
    "model = Sequential()"
   ]
  },
  {
   "cell_type": "code",
   "execution_count": 30,
   "id": "9b699f16",
   "metadata": {},
   "outputs": [],
   "source": [
    "model.add(LSTM(50,return_sequences=True,input_shape=(10,1)))\n",
    "model.add(LSTM(50,return_sequences=True))\n",
    "model.add(LSTM(50))"
   ]
  },
  {
   "cell_type": "code",
   "execution_count": 31,
   "id": "72e9a3ee",
   "metadata": {},
   "outputs": [],
   "source": [
    "model.add(Dense(1))"
   ]
  },
  {
   "cell_type": "code",
   "execution_count": 32,
   "id": "5b851d58",
   "metadata": {},
   "outputs": [
    {
     "name": "stdout",
     "output_type": "stream",
     "text": [
      "Model: \"sequential\"\n",
      "_________________________________________________________________\n",
      " Layer (type)                Output Shape              Param #   \n",
      "=================================================================\n",
      " lstm (LSTM)                 (None, 10, 50)            10400     \n",
      "                                                                 \n",
      " lstm_1 (LSTM)               (None, 10, 50)            20200     \n",
      "                                                                 \n",
      " lstm_2 (LSTM)               (None, 50)                20200     \n",
      "                                                                 \n",
      " dense (Dense)               (None, 1)                 51        \n",
      "                                                                 \n",
      "=================================================================\n",
      "Total params: 50,851\n",
      "Trainable params: 50,851\n",
      "Non-trainable params: 0\n",
      "_________________________________________________________________\n"
     ]
    }
   ],
   "source": [
    "model.summary()"
   ]
  },
  {
   "cell_type": "code",
   "execution_count": 33,
   "id": "ef81c7f0",
   "metadata": {},
   "outputs": [],
   "source": [
    "model.compile(loss='mean_squared_error',optimizer='adam')"
   ]
  },
  {
   "cell_type": "code",
   "execution_count": 35,
   "id": "d603115b",
   "metadata": {},
   "outputs": [
    {
     "name": "stdout",
     "output_type": "stream",
     "text": [
      "Epoch 1/50\n",
      "84/84 [==============================] - 6s 69ms/step - loss: 8.2759e-05 - val_loss: 4.0892e-04\n",
      "Epoch 2/50\n",
      "84/84 [==============================] - 4s 47ms/step - loss: 7.5317e-05 - val_loss: 4.8240e-04\n",
      "Epoch 3/50\n",
      "84/84 [==============================] - 4s 49ms/step - loss: 7.9198e-05 - val_loss: 0.0010\n",
      "Epoch 4/50\n",
      "84/84 [==============================] - 6s 67ms/step - loss: 8.3020e-05 - val_loss: 3.3202e-04\n",
      "Epoch 5/50\n",
      "84/84 [==============================] - 4s 48ms/step - loss: 6.4561e-05 - val_loss: 3.6391e-04\n",
      "Epoch 6/50\n",
      "84/84 [==============================] - 4s 47ms/step - loss: 6.7649e-05 - val_loss: 3.4241e-04\n",
      "Epoch 7/50\n",
      "84/84 [==============================] - 5s 65ms/step - loss: 6.1172e-05 - val_loss: 2.9344e-04\n",
      "Epoch 8/50\n",
      "84/84 [==============================] - 6s 68ms/step - loss: 6.5263e-05 - val_loss: 5.5413e-04\n",
      "Epoch 9/50\n",
      "84/84 [==============================] - 4s 48ms/step - loss: 5.9849e-05 - val_loss: 3.9287e-04\n",
      "Epoch 10/50\n",
      "84/84 [==============================] - 4s 51ms/step - loss: 5.5862e-05 - val_loss: 2.5168e-04\n",
      "Epoch 11/50\n",
      "84/84 [==============================] - 6s 74ms/step - loss: 5.9357e-05 - val_loss: 3.5915e-04\n",
      "Epoch 12/50\n",
      "84/84 [==============================] - 4s 45ms/step - loss: 5.3281e-05 - val_loss: 2.4452e-04\n",
      "Epoch 13/50\n",
      "84/84 [==============================] - 4s 50ms/step - loss: 5.1978e-05 - val_loss: 3.8276e-04\n",
      "Epoch 14/50\n",
      "84/84 [==============================] - 6s 68ms/step - loss: 4.9238e-05 - val_loss: 2.1604e-04\n",
      "Epoch 15/50\n",
      "84/84 [==============================] - 5s 56ms/step - loss: 4.8571e-05 - val_loss: 2.0100e-04\n",
      "Epoch 16/50\n",
      "84/84 [==============================] - 4s 49ms/step - loss: 4.7821e-05 - val_loss: 1.9581e-04\n",
      "Epoch 17/50\n",
      "84/84 [==============================] - 5s 55ms/step - loss: 4.2514e-05 - val_loss: 1.9930e-04\n",
      "Epoch 18/50\n",
      "84/84 [==============================] - 6s 76ms/step - loss: 4.3120e-05 - val_loss: 2.4934e-04\n",
      "Epoch 19/50\n",
      "84/84 [==============================] - 5s 59ms/step - loss: 4.7707e-05 - val_loss: 3.9497e-04\n",
      "Epoch 20/50\n",
      "84/84 [==============================] - 4s 53ms/step - loss: 4.5128e-05 - val_loss: 1.8131e-04\n",
      "Epoch 21/50\n",
      "84/84 [==============================] - 6s 76ms/step - loss: 3.8253e-05 - val_loss: 2.7298e-04\n",
      "Epoch 22/50\n",
      "84/84 [==============================] - 5s 55ms/step - loss: 3.7996e-05 - val_loss: 2.5495e-04\n",
      "Epoch 23/50\n",
      "84/84 [==============================] - 5s 55ms/step - loss: 3.7103e-05 - val_loss: 2.3953e-04\n",
      "Epoch 24/50\n",
      "84/84 [==============================] - 6s 74ms/step - loss: 3.9661e-05 - val_loss: 1.7659e-04\n",
      "Epoch 25/50\n",
      "84/84 [==============================] - 5s 54ms/step - loss: 3.6607e-05 - val_loss: 2.7119e-04\n",
      "Epoch 26/50\n",
      "84/84 [==============================] - 5s 57ms/step - loss: 3.7889e-05 - val_loss: 3.6993e-04\n",
      "Epoch 27/50\n",
      "84/84 [==============================] - 6s 71ms/step - loss: 3.6533e-05 - val_loss: 1.9075e-04\n",
      "Epoch 28/50\n",
      "84/84 [==============================] - 5s 56ms/step - loss: 3.5179e-05 - val_loss: 2.3056e-04\n",
      "Epoch 29/50\n",
      "84/84 [==============================] - 5s 55ms/step - loss: 3.3028e-05 - val_loss: 1.8503e-04\n",
      "Epoch 30/50\n",
      "84/84 [==============================] - 6s 72ms/step - loss: 3.7884e-05 - val_loss: 2.4888e-04\n",
      "Epoch 31/50\n",
      "84/84 [==============================] - 5s 56ms/step - loss: 3.5201e-05 - val_loss: 1.8560e-04\n",
      "Epoch 32/50\n",
      "84/84 [==============================] - 5s 57ms/step - loss: 3.3765e-05 - val_loss: 3.4012e-04\n",
      "Epoch 33/50\n",
      "84/84 [==============================] - 6s 74ms/step - loss: 3.6406e-05 - val_loss: 2.0081e-04\n",
      "Epoch 34/50\n",
      "84/84 [==============================] - 5s 57ms/step - loss: 3.3040e-05 - val_loss: 1.8671e-04\n",
      "Epoch 35/50\n",
      "84/84 [==============================] - 5s 56ms/step - loss: 3.1530e-05 - val_loss: 2.9813e-04\n",
      "Epoch 36/50\n",
      "84/84 [==============================] - 6s 76ms/step - loss: 3.1774e-05 - val_loss: 2.0157e-04\n",
      "Epoch 37/50\n",
      "84/84 [==============================] - 4s 50ms/step - loss: 3.5654e-05 - val_loss: 3.4396e-04\n",
      "Epoch 38/50\n",
      "84/84 [==============================] - 5s 57ms/step - loss: 3.3372e-05 - val_loss: 1.9203e-04\n",
      "Epoch 39/50\n",
      "84/84 [==============================] - 7s 78ms/step - loss: 3.3287e-05 - val_loss: 1.9372e-04\n",
      "Epoch 40/50\n",
      "84/84 [==============================] - 5s 59ms/step - loss: 3.0756e-05 - val_loss: 4.9158e-04\n",
      "Epoch 41/50\n",
      "84/84 [==============================] - 5s 59ms/step - loss: 3.4120e-05 - val_loss: 3.6207e-04\n",
      "Epoch 42/50\n",
      "84/84 [==============================] - 6s 76ms/step - loss: 3.2224e-05 - val_loss: 1.8559e-04\n",
      "Epoch 43/50\n",
      "84/84 [==============================] - 6s 68ms/step - loss: 3.0016e-05 - val_loss: 4.4297e-04\n",
      "Epoch 44/50\n",
      "84/84 [==============================] - 5s 54ms/step - loss: 3.2877e-05 - val_loss: 3.0166e-04\n",
      "Epoch 45/50\n",
      "84/84 [==============================] - 6s 74ms/step - loss: 3.3182e-05 - val_loss: 2.4356e-04\n",
      "Epoch 46/50\n",
      "84/84 [==============================] - 4s 52ms/step - loss: 3.4722e-05 - val_loss: 2.8399e-04\n",
      "Epoch 47/50\n",
      "84/84 [==============================] - 5s 54ms/step - loss: 3.0769e-05 - val_loss: 1.8908e-04\n",
      "Epoch 48/50\n",
      "84/84 [==============================] - 6s 76ms/step - loss: 3.0809e-05 - val_loss: 4.1680e-04\n",
      "Epoch 49/50\n",
      "84/84 [==============================] - 4s 49ms/step - loss: 3.2482e-05 - val_loss: 1.8645e-04\n",
      "Epoch 50/50\n",
      "84/84 [==============================] - 6s 66ms/step - loss: 3.2913e-05 - val_loss: 1.8074e-04\n"
     ]
    },
    {
     "data": {
      "text/plain": [
       "<keras.callbacks.History at 0x2007a84b4f0>"
      ]
     },
     "execution_count": 35,
     "metadata": {},
     "output_type": "execute_result"
    }
   ],
   "source": [
    "model.fit(x_train,y_train,validation_data=(x_test,y_test),epochs=50,batch_size=64,verbose=1)"
   ]
  },
  {
   "cell_type": "code",
   "execution_count": 36,
   "id": "4f7739af",
   "metadata": {},
   "outputs": [
    {
     "ename": "NameError",
     "evalue": "name 'train_predict' is not defined",
     "output_type": "error",
     "traceback": [
      "\u001b[1;31m---------------------------------------------------------------------------\u001b[0m",
      "\u001b[1;31mNameError\u001b[0m                                 Traceback (most recent call last)",
      "Cell \u001b[1;32mIn [36], line 1\u001b[0m\n\u001b[1;32m----> 1\u001b[0m train_predict\u001b[38;5;241m=\u001b[39mscaler\u001b[38;5;241m.\u001b[39minverse_transform(\u001b[43mtrain_predict\u001b[49m)\n",
      "\u001b[1;31mNameError\u001b[0m: name 'train_predict' is not defined"
     ]
    }
   ],
   "source": []
  },
  {
   "cell_type": "code",
   "execution_count": 37,
   "id": "6333191a",
   "metadata": {},
   "outputs": [],
   "source": [
    "from tensorflow.keras.models import load_model"
   ]
  },
  {
   "cell_type": "markdown",
   "id": "9ebf299c",
   "metadata": {},
   "source": [
    "model.save(\"data_final.h5\")"
   ]
  },
  {
   "cell_type": "code",
   "execution_count": 38,
   "id": "5dcbe371",
   "metadata": {},
   "outputs": [
    {
     "data": {
      "text/plain": [
       "2876"
      ]
     },
     "execution_count": 38,
     "metadata": {},
     "output_type": "execute_result"
    }
   ],
   "source": [
    "\n",
    "len(test_data)"
   ]
  },
  {
   "cell_type": "code",
   "execution_count": 39,
   "id": "d2f66f19",
   "metadata": {},
   "outputs": [
    {
     "data": {
      "text/plain": [
       "(1, 10)"
      ]
     },
     "execution_count": 39,
     "metadata": {},
     "output_type": "execute_result"
    }
   ],
   "source": [
    "x_input=test_data[2866:].reshape(1,-1)\n",
    "x_input.shape"
   ]
  },
  {
   "cell_type": "code",
   "execution_count": 41,
   "id": "82fa4e2b",
   "metadata": {},
   "outputs": [],
   "source": [
    "temp_input=list(x_input)\n",
    "temp_input=temp_input[0].tolist()"
   ]
  },
  {
   "cell_type": "code",
   "execution_count": 42,
   "id": "4195d65a",
   "metadata": {},
   "outputs": [
    {
     "data": {
      "text/plain": [
       "[0.44172960165852215,\n",
       " 0.48111950244335855,\n",
       " 0.49726047682511476,\n",
       " 0.4679401747371539,\n",
       " 0.4729749740855915,\n",
       " 0.47119798608026064,\n",
       " 0.47341922108692425,\n",
       " 0.4649785280616022,\n",
       " 0.4703835332444839,\n",
       " 0.47149415074781587]"
      ]
     },
     "execution_count": 42,
     "metadata": {},
     "output_type": "execute_result"
    }
   ],
   "source": [
    "temp_input\n"
   ]
  },
  {
   "cell_type": "code",
   "execution_count": 45,
   "id": "be5c94f5",
   "metadata": {
    "scrolled": true
   },
   "outputs": [
    {
     "name": "stdout",
     "output_type": "stream",
     "text": [
      "0 day input [0.4811195  0.49726048 0.46794017 0.47297497 0.47119799 0.47341922\n",
      " 0.46497853 0.47038353 0.47149415 0.47458544]\n",
      "0 day input [[0.4780081]]\n",
      "1 day input [0.49726048 0.46794017 0.47297497 0.47119799 0.47341922 0.46497853\n",
      " 0.47038353 0.47149415 0.47458544 0.47800809]\n",
      "1 day input [[0.48115236]]\n",
      "2 day input [0.46794017 0.47297497 0.47119799 0.47341922 0.46497853 0.47038353\n",
      " 0.47149415 0.47458544 0.47800809 0.48115236]\n",
      "2 day input [[0.48385763]]\n",
      "3 day input [0.47297497 0.47119799 0.47341922 0.46497853 0.47038353 0.47149415\n",
      " 0.47458544 0.47800809 0.48115236 0.48385763]\n",
      "3 day input [[0.48631832]]\n",
      "4 day input [0.47119799 0.47341922 0.46497853 0.47038353 0.47149415 0.47458544\n",
      " 0.47800809 0.48115236 0.48385763 0.48631832]\n",
      "4 day input [[0.48859924]]\n",
      "5 day input [0.47341922 0.46497853 0.47038353 0.47149415 0.47458544 0.47800809\n",
      " 0.48115236 0.48385763 0.48631832 0.48859924]\n",
      "5 day input [[0.49077198]]\n",
      "6 day input [0.46497853 0.47038353 0.47149415 0.47458544 0.47800809 0.48115236\n",
      " 0.48385763 0.48631832 0.48859924 0.49077198]\n",
      "6 day input [[0.4928743]]\n",
      "7 day input [0.47038353 0.47149415 0.47458544 0.47800809 0.48115236 0.48385763\n",
      " 0.48631832 0.48859924 0.49077198 0.49287429]\n",
      "7 day input [[0.4949832]]\n",
      "8 day input [0.47149415 0.47458544 0.47800809 0.48115236 0.48385763 0.48631832\n",
      " 0.48859924 0.49077198 0.49287429 0.4949832 ]\n",
      "8 day input [[0.49709532]]\n",
      "9 day input [0.47458544 0.47800809 0.48115236 0.48385763 0.48631832 0.48859924\n",
      " 0.49077198 0.49287429 0.4949832  0.49709532]\n",
      "9 day input [[0.4992116]]\n"
     ]
    }
   ],
   "source": [
    "\n",
    "lst_output=[]\n",
    "n_steps=10\n",
    "i=0\n",
    "while(i<10):\n",
    "    if(len(temp_input)>10):\n",
    "        x_input=np.array(temp_input[1:])\n",
    "        print(\"{} day input {}\".format(i,x_input))\n",
    "        x_input=x_input.reshape(1,-1)\n",
    "        x_input=x_input.reshape((1,n_steps,1))\n",
    "        yhat=model.predict(x_input,verbose=0)\n",
    "        print(\"{} day input {}\".format(i,yhat))\n",
    "        temp_input.extend(yhat[0].tolist())\n",
    "        temp_input=temp_input[1:]\n",
    "        lst_output.extend(yhat.tolist())\n",
    "        i=i+1\n",
    "    else:\n",
    "        x_input=x_input.reshape((1,n_steps,1))\n",
    "        yhat=model.predict(x_input,verbose=0)\n",
    "        print(yhat[0])\n",
    "        temp_input.extend(yhat[0].tolist())\n",
    "        print(len(temp_input))\n",
    "        lst_output.extend(yhat.tolist())\n",
    "        i=i+1\n",
    "        "
   ]
  },
  {
   "cell_type": "code",
   "execution_count": 46,
   "id": "1016691a",
   "metadata": {},
   "outputs": [],
   "source": [
    "day_new=np.arange(1,11)\n",
    "day_pred=np.arange(11,21)"
   ]
  },
  {
   "cell_type": "code",
   "execution_count": 47,
   "id": "fef1f9e5",
   "metadata": {},
   "outputs": [
    {
     "data": {
      "text/plain": [
       "8216"
      ]
     },
     "execution_count": 47,
     "metadata": {},
     "output_type": "execute_result"
    }
   ],
   "source": [
    "len(data_final)"
   ]
  },
  {
   "cell_type": "code",
   "execution_count": 48,
   "id": "cf6d380b",
   "metadata": {
    "scrolled": true
   },
   "outputs": [
    {
     "data": {
      "text/plain": [
       "[<matplotlib.lines.Line2D at 0x2007bd8a6b0>]"
      ]
     },
     "execution_count": 48,
     "metadata": {},
     "output_type": "execute_result"
    },
    {
     "data": {
      "image/png": "[encoded data removed]",
      "text/plain": [
       "<Figure size 640x480 with 1 Axes>"
      ]
     },
     "metadata": {},
     "output_type": "display_data"
    }
   ],
   "source": [
    "plt.plot(day_new,scaler.inverse_transform(data_final[8206:]))\n",
    "plt.plot(day_pred,scaler.inverse_transform(lst_output))"
   ]
  },
  {
   "cell_type": "code",
   "execution_count": 49,
   "id": "bc25b439",
   "metadata": {},
   "outputs": [
    {
     "data": {
      "text/plain": [
       "[<matplotlib.lines.Line2D at 0x2007ce29f90>]"
      ]
     },
     "execution_count": 49,
     "metadata": {},
     "output_type": "execute_result"
    },
    {
     "data": {
      "image/png": "[encoded data removed]",
      "text/plain": [
       "<Figure size 640x480 with 1 Axes>"
      ]
     },
     "metadata": {},
     "output_type": "display_data"
    }
   ],
   "source": [
    "df3=data_final.tolist()\n",
    "df3.extend(lst_output)\n",
    "plt.plot(df3[8100:])"
   ]
  },
  {
   "cell_type": "code",
   "execution_count": null,
   "id": "3b5de7bb",
   "metadata": {},
   "outputs": [],
   "source": []
  },
  {
   "cell_type": "code",
   "execution_count": null,
   "id": "e6a830fb",
   "metadata": {},
   "outputs": [],
   "source": []
  }
 ],
 "metadata": {
  "kernelspec": {
   "display_name": "Python 3 (ipykernel)",
   "language": "python",
   "name": "python3"
  },
  "language_info": {
   "codemirror_mode": {
    "name": "ipython",
    "version": 3
   },
   "file_extension": ".py",
   "mimetype": "text/x-python",
   "name": "python",
   "nbconvert_exporter": "python",
   "pygments_lexer": "ipython3",
   "version": "3.9.7"
  }
 },
 "nbformat": 4,
 "nbformat_minor": 5
}
